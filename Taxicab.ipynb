{
 "cells": [
  {
   "cell_type": "markdown",
   "id": "f734e51e",
   "metadata": {},
   "source": [
    "# Importing packages\n",
    "\n",
    "### OBJECTIVES\n",
    "###### What's the average number of trips we can expect this week?\n",
    "###### What's the average fare per trip we expect to collect?\n",
    "###### What's the average distance traveled per trip?\n",
    "###### How do we expect trip volume to change, relative to last week?\n",
    "###### Which days of the week and times of the day will be busiest?\n",
    "###### What will likely be the most popular pick-up and drop-off locations?\n",
    "\n"
   ]
  },
  {
   "cell_type": "code",
   "execution_count": 1,
   "id": "4f9e197d",
   "metadata": {},
   "outputs": [],
   "source": [
    "import pandas as pd \n",
    "import numpy as np \n",
    "import seaborn as sns \n",
    "import matplotlib.pyplot as plt"
   ]
  },
  {
   "cell_type": "markdown",
   "id": "10dd6915-0924-4909-8c9a-0953e914b2c8",
   "metadata": {},
   "source": [
    "### Import CSV Files"
   ]
  },
  {
   "cell_type": "code",
   "execution_count": 2,
   "id": "763d1ac6",
   "metadata": {},
   "outputs": [
    {
     "name": "stderr",
     "output_type": "stream",
     "text": [
      "C:\\Users\\brand\\anaconda3\\lib\\site-packages\\IPython\\core\\interactiveshell.py:3165: DtypeWarning: Columns (3) have mixed types.Specify dtype option on import or set low_memory=False.\n",
      "  has_raised = await self.run_ast_nodes(code_ast.body, cell_name,\n"
     ]
    }
   ],
   "source": [
    "## Import Files \n",
    "\n",
    "#taxi2017 = pd.read_csv(r'C:\\Users\\brand\\Documents\\Taxi\\taxi_trips\\2017_taxi_trips.csv')\n",
    "#taxi2018 = pd.read_csv(r'C:\\Users\\brand\\Documents\\Taxi\\taxi_trips\\2018_taxi_trips.csv')\n",
    "#taxi2019 = pd.read_csv(r'C:\\Users\\brand\\Documents\\Taxi\\taxi_trips\\2019_taxi_trips.csv')\n",
    "taxi2020 = pd.read_csv(r'C:\\Users\\brand\\Documents\\Taxi\\taxi_trips\\2020_taxi_trips.csv')\n",
    "\n"
   ]
  },
  {
   "cell_type": "markdown",
   "id": "80ed91c6-65f9-4f91-9761-b9514519d811",
   "metadata": {},
   "source": [
    "### Convert csv to pandas DF"
   ]
  },
  {
   "cell_type": "code",
   "execution_count": 3,
   "id": "cd00b282",
   "metadata": {},
   "outputs": [],
   "source": [
    "### convert files to DataFrame \n",
    "#df17 = pd.DataFrame(taxi2017)\n",
    "#df18 = pd.DataFrame(taxi2018)\n",
    "#df19 = pd.DataFrame(taxi2019)\n",
    "df20 = pd.DataFrame(taxi2020)"
   ]
  },
  {
   "cell_type": "code",
   "execution_count": 4,
   "id": "153970fe-9a24-4afa-8b6a-537404b414bd",
   "metadata": {},
   "outputs": [
    {
     "data": {
      "text/plain": [
       "Index(['VendorID', 'lpep_pickup_datetime', 'lpep_dropoff_datetime',\n",
       "       'store_and_fwd_flag', 'RatecodeID', 'PULocationID', 'DOLocationID',\n",
       "       'passenger_count', 'trip_distance', 'fare_amount', 'extra', 'mta_tax',\n",
       "       'tip_amount', 'tolls_amount', 'improvement_surcharge', 'total_amount',\n",
       "       'payment_type', 'trip_type', 'congestion_surcharge'],\n",
       "      dtype='object')"
      ]
     },
     "execution_count": 4,
     "metadata": {},
     "output_type": "execute_result"
    }
   ],
   "source": [
    "#df17.columns\n",
    "#df18.columns\n",
    "#df19.columns\n",
    "df20.columns"
   ]
  },
  {
   "cell_type": "code",
   "execution_count": 5,
   "id": "e91cce57-eedd-4525-803c-aa5af2e1afae",
   "metadata": {},
   "outputs": [
    {
     "data": {
      "text/plain": [
       "VendorID                 float64\n",
       "lpep_pickup_datetime      object\n",
       "lpep_dropoff_datetime     object\n",
       "store_and_fwd_flag        object\n",
       "RatecodeID               float64\n",
       "PULocationID               int64\n",
       "DOLocationID               int64\n",
       "passenger_count          float64\n",
       "trip_distance            float64\n",
       "fare_amount              float64\n",
       "extra                    float64\n",
       "mta_tax                  float64\n",
       "tip_amount               float64\n",
       "tolls_amount             float64\n",
       "improvement_surcharge    float64\n",
       "total_amount             float64\n",
       "payment_type             float64\n",
       "trip_type                float64\n",
       "congestion_surcharge     float64\n",
       "dtype: object"
      ]
     },
     "execution_count": 5,
     "metadata": {},
     "output_type": "execute_result"
    }
   ],
   "source": [
    "#df17.dtypes\n",
    "#df18.dtypes\n",
    "#df19.dtypes\n",
    "df20.dtypes"
   ]
  },
  {
   "cell_type": "code",
   "execution_count": 6,
   "id": "1ac9d69b-2c46-40d6-be34-d0f746332217",
   "metadata": {},
   "outputs": [
    {
     "data": {
      "text/html": [
       "<div><div id=1277d426-08d2-4f37-b26c-5d938841bb59 style=\"display:none; background-color:#9D6CFF; color:white; width:200px; height:30px; padding-left:5px; border-radius:4px; flex-direction:row; justify-content:space-around; align-items:center;\" onmouseover=\"this.style.backgroundColor='#BA9BF8'\" onmouseout=\"this.style.backgroundColor='#9D6CFF'\" onclick=\"window.commands?.execute('create-mitosheet-from-dataframe-output');\">See Full Dataframe in Mito</div> <script> if (window.commands.hasCommand('create-mitosheet-from-dataframe-output')) document.getElementById('1277d426-08d2-4f37-b26c-5d938841bb59').style.display = 'flex' </script> <table border=\"1\" class=\"dataframe\">\n",
       "  <thead>\n",
       "    <tr style=\"text-align: right;\">\n",
       "      <th></th>\n",
       "      <th>VendorID</th>\n",
       "      <th>lpep_pickup_datetime</th>\n",
       "      <th>lpep_dropoff_datetime</th>\n",
       "      <th>store_and_fwd_flag</th>\n",
       "      <th>RatecodeID</th>\n",
       "      <th>PULocationID</th>\n",
       "      <th>DOLocationID</th>\n",
       "      <th>passenger_count</th>\n",
       "      <th>trip_distance</th>\n",
       "      <th>fare_amount</th>\n",
       "      <th>extra</th>\n",
       "      <th>mta_tax</th>\n",
       "      <th>tip_amount</th>\n",
       "      <th>tolls_amount</th>\n",
       "      <th>improvement_surcharge</th>\n",
       "      <th>total_amount</th>\n",
       "      <th>payment_type</th>\n",
       "      <th>trip_type</th>\n",
       "      <th>congestion_surcharge</th>\n",
       "    </tr>\n",
       "  </thead>\n",
       "  <tbody>\n",
       "    <tr>\n",
       "      <th>0</th>\n",
       "      <td>2.0</td>\n",
       "      <td>2020-01-01 06:47:28.000</td>\n",
       "      <td>2020-01-01 06:52:54.000</td>\n",
       "      <td>N</td>\n",
       "      <td>1.0</td>\n",
       "      <td>74</td>\n",
       "      <td>75</td>\n",
       "      <td>1.0</td>\n",
       "      <td>1.47</td>\n",
       "      <td>6.5</td>\n",
       "      <td>0.0</td>\n",
       "      <td>0.5</td>\n",
       "      <td>0.0</td>\n",
       "      <td>0.0</td>\n",
       "      <td>0.3</td>\n",
       "      <td>7.3</td>\n",
       "      <td>2.0</td>\n",
       "      <td>1.0</td>\n",
       "      <td>0.0</td>\n",
       "    </tr>\n",
       "    <tr>\n",
       "      <th>1</th>\n",
       "      <td>2.0</td>\n",
       "      <td>2020-01-01 13:25:34.000</td>\n",
       "      <td>2020-01-01 13:30:43.000</td>\n",
       "      <td>N</td>\n",
       "      <td>1.0</td>\n",
       "      <td>74</td>\n",
       "      <td>75</td>\n",
       "      <td>1.0</td>\n",
       "      <td>1.49</td>\n",
       "      <td>6.5</td>\n",
       "      <td>0.0</td>\n",
       "      <td>0.5</td>\n",
       "      <td>0.0</td>\n",
       "      <td>0.0</td>\n",
       "      <td>0.3</td>\n",
       "      <td>7.3</td>\n",
       "      <td>2.0</td>\n",
       "      <td>1.0</td>\n",
       "      <td>0.0</td>\n",
       "    </tr>\n",
       "    <tr>\n",
       "      <th>2</th>\n",
       "      <td>2.0</td>\n",
       "      <td>2020-01-01 14:20:35.000</td>\n",
       "      <td>2020-01-01 14:26:25.000</td>\n",
       "      <td>N</td>\n",
       "      <td>1.0</td>\n",
       "      <td>74</td>\n",
       "      <td>75</td>\n",
       "      <td>1.0</td>\n",
       "      <td>1.31</td>\n",
       "      <td>6.5</td>\n",
       "      <td>0.0</td>\n",
       "      <td>0.5</td>\n",
       "      <td>0.0</td>\n",
       "      <td>0.0</td>\n",
       "      <td>0.3</td>\n",
       "      <td>7.3</td>\n",
       "      <td>2.0</td>\n",
       "      <td>1.0</td>\n",
       "      <td>0.0</td>\n",
       "    </tr>\n",
       "    <tr>\n",
       "      <th>3</th>\n",
       "      <td>2.0</td>\n",
       "      <td>2020-01-02 06:56:47.000</td>\n",
       "      <td>2020-01-02 07:03:03.000</td>\n",
       "      <td>N</td>\n",
       "      <td>1.0</td>\n",
       "      <td>74</td>\n",
       "      <td>75</td>\n",
       "      <td>1.0</td>\n",
       "      <td>1.43</td>\n",
       "      <td>6.5</td>\n",
       "      <td>0.0</td>\n",
       "      <td>0.5</td>\n",
       "      <td>0.0</td>\n",
       "      <td>0.0</td>\n",
       "      <td>0.3</td>\n",
       "      <td>7.3</td>\n",
       "      <td>2.0</td>\n",
       "      <td>1.0</td>\n",
       "      <td>0.0</td>\n",
       "    </tr>\n",
       "    <tr>\n",
       "      <th>4</th>\n",
       "      <td>2.0</td>\n",
       "      <td>2020-01-02 09:34:46.000</td>\n",
       "      <td>2020-01-02 09:41:02.000</td>\n",
       "      <td>N</td>\n",
       "      <td>1.0</td>\n",
       "      <td>74</td>\n",
       "      <td>75</td>\n",
       "      <td>1.0</td>\n",
       "      <td>1.10</td>\n",
       "      <td>6.5</td>\n",
       "      <td>0.0</td>\n",
       "      <td>0.5</td>\n",
       "      <td>0.0</td>\n",
       "      <td>0.0</td>\n",
       "      <td>0.3</td>\n",
       "      <td>7.3</td>\n",
       "      <td>2.0</td>\n",
       "      <td>1.0</td>\n",
       "      <td>0.0</td>\n",
       "    </tr>\n",
       "  </tbody>\n",
       "</table></div>"
      ],
      "text/plain": [
       "   VendorID     lpep_pickup_datetime    lpep_dropoff_datetime  \\\n",
       "0       2.0  2020-01-01 06:47:28.000  2020-01-01 06:52:54.000   \n",
       "1       2.0  2020-01-01 13:25:34.000  2020-01-01 13:30:43.000   \n",
       "2       2.0  2020-01-01 14:20:35.000  2020-01-01 14:26:25.000   \n",
       "3       2.0  2020-01-02 06:56:47.000  2020-01-02 07:03:03.000   \n",
       "4       2.0  2020-01-02 09:34:46.000  2020-01-02 09:41:02.000   \n",
       "\n",
       "  store_and_fwd_flag  RatecodeID  PULocationID  DOLocationID  passenger_count  \\\n",
       "0                  N         1.0            74            75              1.0   \n",
       "1                  N         1.0            74            75              1.0   \n",
       "2                  N         1.0            74            75              1.0   \n",
       "3                  N         1.0            74            75              1.0   \n",
       "4                  N         1.0            74            75              1.0   \n",
       "\n",
       "   trip_distance  fare_amount  extra  mta_tax  tip_amount  tolls_amount  \\\n",
       "0           1.47          6.5    0.0      0.5         0.0           0.0   \n",
       "1           1.49          6.5    0.0      0.5         0.0           0.0   \n",
       "2           1.31          6.5    0.0      0.5         0.0           0.0   \n",
       "3           1.43          6.5    0.0      0.5         0.0           0.0   \n",
       "4           1.10          6.5    0.0      0.5         0.0           0.0   \n",
       "\n",
       "   improvement_surcharge  total_amount  payment_type  trip_type  \\\n",
       "0                    0.3           7.3           2.0        1.0   \n",
       "1                    0.3           7.3           2.0        1.0   \n",
       "2                    0.3           7.3           2.0        1.0   \n",
       "3                    0.3           7.3           2.0        1.0   \n",
       "4                    0.3           7.3           2.0        1.0   \n",
       "\n",
       "   congestion_surcharge  \n",
       "0                   0.0  \n",
       "1                   0.0  \n",
       "2                   0.0  \n",
       "3                   0.0  \n",
       "4                   0.0  "
      ]
     },
     "execution_count": 6,
     "metadata": {},
     "output_type": "execute_result"
    }
   ],
   "source": [
    "#df17.head()\n",
    "#df18.head()\n",
    "#df19.head()\n",
    "df20.head()"
   ]
  },
  {
   "cell_type": "markdown",
   "id": "3b381c28-78d7-44c6-aa6c-f036fa6d3970",
   "metadata": {},
   "source": [
    "# Cleaning Data \n",
    "### Remove data that is store  and forward."
   ]
  },
  {
   "cell_type": "code",
   "execution_count": 7,
   "id": "bfa45c68-0d20-41da-af47-7b5b5d9a4614",
   "metadata": {},
   "outputs": [],
   "source": [
    "def store_and_forward(df):\n",
    "    df = df[df['store_and_fwd_flag'] == 'N']\n",
    "    return df"
   ]
  },
  {
   "cell_type": "code",
   "execution_count": 8,
   "id": "c0de75fc-1d22-4c25-9a3e-912010372338",
   "metadata": {},
   "outputs": [],
   "source": [
    "#df17 = store_and_forward(df17)\n",
    "#df18 = store_and_forward(df18)\n",
    "#df19 = store_and_forward(df19)\n",
    "df20 = store_and_forward(df20)"
   ]
  },
  {
   "cell_type": "markdown",
   "id": "9afb42ac-dc57-44e1-9dff-37de6a6a9409",
   "metadata": {},
   "source": [
    "### Only include data on standards rate\n",
    "##### RatecodeID is 1\n",
    "### Removing data that is NOT paid by cash or card\n",
    "##### Payment with cash is type 1, Payment with card in type 2."
   ]
  },
  {
   "cell_type": "code",
   "execution_count": 9,
   "id": "27da0a8b",
   "metadata": {},
   "outputs": [],
   "source": [
    "def standard_rate(df):\n",
    "    df = df[df['RatecodeID']==1]\n",
    "    return df\n",
    "def payment_cash_card(df):\n",
    "    df = df[np.logical_or((df['payment_type']==1), df['payment_type'] == 2)]\n",
    "    return df"
   ]
  },
  {
   "cell_type": "code",
   "execution_count": 10,
   "id": "98dc1b0d-dfea-4b8c-9604-b8d558573913",
   "metadata": {},
   "outputs": [
    {
     "name": "stderr",
     "output_type": "stream",
     "text": [
      "NumExpr defaulting to 8 threads.\n"
     ]
    }
   ],
   "source": [
    "#df17 = standard_rate(df17)\n",
    "#df18 = standard_rate(df18)\n",
    "#df19 = standard_rate(df19)\n",
    "df20 = standard_rate(df20)"
   ]
  },
  {
   "cell_type": "code",
   "execution_count": 11,
   "id": "ebb8d287-58a8-4613-b825-faff5801dc16",
   "metadata": {},
   "outputs": [],
   "source": [
    "#df17 = payment_cash_card(df17)\n",
    "#df18 = payment_cash_card(df18)\n",
    "#df19 = payment_cash_card(df19)\n",
    "df20 = payment_cash_card(df20)"
   ]
  },
  {
   "cell_type": "markdown",
   "id": "0e79eed8-99aa-4822-92b5-acb27de543af",
   "metadata": {},
   "source": [
    "#### Renaming pickup and dropoff columns. \n",
    "#### Changing pickup and dropoff astype to DateTime. "
   ]
  },
  {
   "cell_type": "code",
   "execution_count": 12,
   "id": "eef2c4c8-8a3d-4fd6-8b97-a0dd7065d5ed",
   "metadata": {},
   "outputs": [],
   "source": [
    "def rename_time(df):\n",
    "    index = {'lpep_pickup_datetime' : 'pickup',\n",
    "            'lpep_dropoff_datetime': 'dropoff'}\n",
    "    df.rename(columns = index, inplace =True)\n",
    "    return df\n"
   ]
  },
  {
   "cell_type": "code",
   "execution_count": 13,
   "id": "8027eb7d-c1cd-43f3-b7f9-edcfd1c1d3cc",
   "metadata": {},
   "outputs": [],
   "source": [
    "#df17 = rename_time(df17)\n",
    "#df18 = rename_time(df18)\n",
    "#df19 = rename_time(df19)\n",
    "df20 = rename_time(df20)"
   ]
  },
  {
   "cell_type": "code",
   "execution_count": 14,
   "id": "caf65595-69d1-4d1c-940b-4732c3f578c9",
   "metadata": {},
   "outputs": [],
   "source": [
    "from datetime import datetime "
   ]
  },
  {
   "cell_type": "code",
   "execution_count": 15,
   "id": "2b939d68-6d86-4da0-b739-89f95ce11784",
   "metadata": {},
   "outputs": [],
   "source": [
    "def change_to_datetime(df):\n",
    "    df.pickup = pd.to_datetime(df.pickup)\n",
    "    df.dropoff = pd.to_datetime(df.dropoff)\n",
    "    return df\n"
   ]
  },
  {
   "cell_type": "code",
   "execution_count": 16,
   "id": "477e6f74-1631-4a34-9d34-386a1b6c27ad",
   "metadata": {},
   "outputs": [],
   "source": [
    "#df17 = change_to_datetime(df17)\n",
    "#df18 = change_to_datetime(df18)\n",
    "#df19 = change_to_datetime(df19)\n",
    "df20 = change_to_datetime(df20)"
   ]
  },
  {
   "cell_type": "code",
   "execution_count": 17,
   "id": "01ba7392-309d-449e-aed2-64b5f5e2394c",
   "metadata": {},
   "outputs": [
    {
     "data": {
      "text/plain": [
       "VendorID                        float64\n",
       "pickup                   datetime64[ns]\n",
       "dropoff                  datetime64[ns]\n",
       "store_and_fwd_flag               object\n",
       "RatecodeID                      float64\n",
       "PULocationID                      int64\n",
       "DOLocationID                      int64\n",
       "passenger_count                 float64\n",
       "trip_distance                   float64\n",
       "fare_amount                     float64\n",
       "extra                           float64\n",
       "mta_tax                         float64\n",
       "tip_amount                      float64\n",
       "tolls_amount                    float64\n",
       "improvement_surcharge           float64\n",
       "total_amount                    float64\n",
       "payment_type                    float64\n",
       "trip_type                       float64\n",
       "congestion_surcharge            float64\n",
       "dtype: object"
      ]
     },
     "execution_count": 17,
     "metadata": {},
     "output_type": "execute_result"
    }
   ],
   "source": [
    "#df17.dtypes\n",
    "#df18.dtypes\n",
    "#df19.dtypes\n",
    "df20.dtypes"
   ]
  },
  {
   "cell_type": "markdown",
   "id": "7e52eb6d-c796-4838-a57d-6009df790427",
   "metadata": {},
   "source": [
    "#### Check and make sure datetime only contains data from given year. "
   ]
  },
  {
   "cell_type": "code",
   "execution_count": 18,
   "id": "63fd9470-19ac-4dcc-ba2c-5dcfa74930dd",
   "metadata": {},
   "outputs": [],
   "source": [
    "def dt_given_year(df,dfyear):\n",
    "    df = df[df['pickup'].dt.year == dfyear]\n",
    "    df = df[df['dropoff'].dt.year == dfyear]\n",
    "    return df"
   ]
  },
  {
   "cell_type": "code",
   "execution_count": 19,
   "id": "4a1e7897-2fbd-4fac-9683-ad2551c0a060",
   "metadata": {},
   "outputs": [],
   "source": [
    "#df17 = dt_given_year(df17,2017)\n",
    "#df18 = dt_given_year(df18,2018)\n",
    "#df19 = dt_given_year(df19,2019)\n",
    "df20 = dt_given_year(df20,2020)"
   ]
  },
  {
   "cell_type": "code",
   "execution_count": 20,
   "id": "3a80f4a2-0597-45d0-9fef-fcb0f8271dfa",
   "metadata": {},
   "outputs": [
    {
     "data": {
      "text/plain": [
       "2020    1154933\n",
       "Name: dropoff, dtype: int64"
      ]
     },
     "execution_count": 20,
     "metadata": {},
     "output_type": "execute_result"
    }
   ],
   "source": [
    "## check if any years other years are present. \n",
    "#df17.dropoff.dt.year.value_counts()\n",
    "#df18.dropoff.dt.year.value_counts()\n",
    "#df19.dropoff.dt.year.value_counts()\n",
    "df20.dropoff.dt.year.value_counts()"
   ]
  },
  {
   "cell_type": "markdown",
   "id": "6d981b4d-dd88-47d6-ba21-c789c7b510dc",
   "metadata": {},
   "source": [
    "#### Remove Data from unknown locations\n",
    "##### Unknown locations include codes 265 and 264\n"
   ]
  },
  {
   "cell_type": "code",
   "execution_count": 21,
   "id": "18f9b2b2-9152-4c9c-9787-26b20e855ea7",
   "metadata": {},
   "outputs": [],
   "source": [
    "def remove_unknown_location(df):\n",
    "    df = df[(df['DOLocationID'] != 265) & (df['DOLocationID'] != 264)]\n",
    "    return df"
   ]
  },
  {
   "cell_type": "code",
   "execution_count": 22,
   "id": "0dc7a356-c3c4-4564-8276-ddb4f1ac9296",
   "metadata": {},
   "outputs": [],
   "source": [
    "#df17 = remove_unknown_location(df17)\n",
    "#df18 = remove_unknown_location(df18)\n",
    "#df19 = remove_unknown_location(df19)\n",
    "df20 = remove_unknown_location(df20)"
   ]
  },
  {
   "cell_type": "code",
   "execution_count": 23,
   "id": "35872646-ca6d-43c9-84d2-ce9804f5ac82",
   "metadata": {},
   "outputs": [
    {
     "data": {
      "text/plain": [
       "263"
      ]
     },
     "execution_count": 23,
     "metadata": {},
     "output_type": "execute_result"
    }
   ],
   "source": [
    "#df17.DOLocationID.max()\n",
    "#df18.DOLocationID.max()\n",
    "#df19.DOLocationID.max()\n",
    "df20.DOLocationID.max()"
   ]
  },
  {
   "cell_type": "markdown",
   "id": "33c98873-ddb0-4100-a479-f6a12a4d3396",
   "metadata": {},
   "source": [
    "#### Fill passanger information that is NaN or Null with 1 "
   ]
  },
  {
   "cell_type": "code",
   "execution_count": 24,
   "id": "02eab589-49a3-49a4-99af-9262a6b41089",
   "metadata": {},
   "outputs": [],
   "source": [
    "def fill_passenger_na(df):\n",
    "    df['passenger_count'] = df['passenger_count'].replace(0,1)\n",
    "    return df\n",
    "#df17 = fill_passenger_na(df17)\n",
    "#df18 = fill_passenger_na(df18)\n",
    "#df19 = fill_passenger_na(df19)\n",
    "df20 = fill_passenger_na(df20)"
   ]
  },
  {
   "cell_type": "code",
   "execution_count": 25,
   "id": "c7777f25-c6f6-4acd-927b-c870d0d76140",
   "metadata": {},
   "outputs": [
    {
     "data": {
      "text/plain": [
       "1.0    1004653\n",
       "2.0      75752\n",
       "5.0      29663\n",
       "6.0      20315\n",
       "3.0      14643\n",
       "4.0       5052\n",
       "7.0          1\n",
       "Name: passenger_count, dtype: int64"
      ]
     },
     "execution_count": 25,
     "metadata": {},
     "output_type": "execute_result"
    }
   ],
   "source": [
    "#df17.passenger_count.value_counts()\n",
    "#df18.passenger_count.value_counts()\n",
    "#df19.passenger_count.value_counts()\n",
    "df20.passenger_count.value_counts()"
   ]
  },
  {
   "cell_type": "markdown",
   "id": "104ddbc1-a414-4975-a067-d449f78072c5",
   "metadata": {},
   "source": [
    "#### Swap dates that have a negative time value. "
   ]
  },
  {
   "cell_type": "code",
   "execution_count": 26,
   "id": "20c0e1b0-6fbd-4a08-bf2f-fc8a5b634e32",
   "metadata": {},
   "outputs": [],
   "source": [
    "def swap_dates(df):\n",
    "    ## Calculation error with cannot astype a datetimelike from [datetime64[ns]] to [float64]. Only solution I could find was to  convert date to float. Need to test if this corupt or lost any information. \n",
    "    df['pickup'] = df['pickup'].values.astype(float)\n",
    "    df['dropoff'] = df['dropoff'].values.astype(float)\n",
    "    #swap values if time is negative. \n",
    "    time = df.dropoff < df.pickup\n",
    "    df.loc[time, ['pickup', 'dropoff']] = df.loc[time, ['dropoff', 'pickup']].values\n",
    "    #convert float to datetime.\n",
    "    df['pickup'] = pd.to_datetime(df['pickup'])\n",
    "    df['dropoff'] = pd.to_datetime(df['dropoff'])\n",
    "    return df\n"
   ]
  },
  {
   "cell_type": "code",
   "execution_count": 27,
   "id": "b7ac0cf1-f679-4fe3-8278-bb21f962b5af",
   "metadata": {},
   "outputs": [],
   "source": [
    "#df17 = swap_dates(df17)\n",
    "#df18 = swap_dates(df18)\n",
    "#df19 = swap_dates(df19)\n",
    "df20 = swap_dates(df20)"
   ]
  },
  {
   "cell_type": "markdown",
   "id": "cd93c7d6-9866-493c-a749-2539a752439e",
   "metadata": {},
   "source": [
    "#### Check and remove any time that is longer than 1 day. \n",
    "###### converted data into seconds and checked it against 86400 seconds. "
   ]
  },
  {
   "cell_type": "code",
   "execution_count": 28,
   "id": "56f7aa21-3d45-42ab-992d-5e2ac542621f",
   "metadata": {},
   "outputs": [],
   "source": [
    "def create_ridetime(df):\n",
    "    df['Ride_time'] = df.dropoff - df.pickup\n",
    "    df['Ride_time'] = df.Ride_time/np.timedelta64(1,'s')\n",
    "    df['Ride_time'] = df.Ride_time.astype(int)\n",
    "    return df\n",
    "\n"
   ]
  },
  {
   "cell_type": "code",
   "execution_count": 29,
   "id": "35c2302a-ea9d-4d7b-80e5-6bd958c3a849",
   "metadata": {},
   "outputs": [],
   "source": [
    "#df17 = create_ridetime(df17)\n",
    "#df18 = create_ridetime(df18)\n",
    "#df19 = create_ridetime(df19)\n",
    "df20 = create_ridetime(df20)"
   ]
  },
  {
   "cell_type": "code",
   "execution_count": 30,
   "id": "48fc59d9-1a36-4e91-9c29-51a2b37511a9",
   "metadata": {},
   "outputs": [],
   "source": [
    "def longer_than_day(df):\n",
    "    df = df[df['Ride_time'] < 86400]\n",
    "    return df\n",
    "#df17 =longer_than_day(df17)\n",
    "#df18 =longer_than_day(df18)\n",
    "#df19 =longer_than_day(df19)\n",
    "df20 =longer_than_day(df20)"
   ]
  },
  {
   "cell_type": "markdown",
   "id": "f38ae0f2-0815-49e3-9fa8-e300d4cdb2d5",
   "metadata": {},
   "source": [
    "#### Check and fix and data in columns fare, taxes, and surcharges negative and if so make them positive. "
   ]
  },
  {
   "cell_type": "code",
   "execution_count": 31,
   "id": "f2eaf141-c7d9-4171-ad0d-75d7a3a75c19",
   "metadata": {
    "tags": []
   },
   "outputs": [],
   "source": [
    "def make_postive(df):\n",
    "    df.fare_amount = df.fare_amount.abs()\n",
    "    df.mta_tax = df.mta_tax.abs()\n",
    "    df.improvement_surcharge = df.improvement_surcharge.abs()\n",
    "    return df\n",
    "#df17 = make_postive(df17)\n",
    "#df18 = make_postive(df18)\n",
    "#df19 = make_postive(df19)\n",
    "df20 = make_postive(df20)"
   ]
  },
  {
   "cell_type": "code",
   "execution_count": 32,
   "id": "a2a86a1e-a825-463d-965c-923b42860696",
   "metadata": {},
   "outputs": [],
   "source": [
    "def calc_fare(df):\n",
    "    df['tripdist'] = 2.5 + (df['trip_distance']*2.5)\n",
    "    df['fare_amount']= np.where(df['fare_amount'] == 0, df['tripdist'], df['fare_amount'])\n",
    "    return df\n",
    "#df17 = calc_fare(df17)\n",
    "#df18 = calc_fare(df18)\n",
    "#df19 = calc_fare(df19)\n",
    "df20 = calc_fare(df20)"
   ]
  },
  {
   "cell_type": "code",
   "execution_count": 33,
   "id": "597741bd-0eb2-451c-acc1-516225bbfa42",
   "metadata": {},
   "outputs": [],
   "source": [
    "def calc_trip (df):\n",
    "    df['newtrip'] = (df['fare_amount'] - 2.5)/2.5\n",
    "    df['trip_distance']= np.where(df['trip_distance'] == 0, df['newtrip'], df['trip_distance'])\n",
    "    return df\n",
    "#df17 = calc_trip(df17)\n",
    "#df18 = calc_trip(df18)\n",
    "#df19 = calc_trip(df19)\n",
    "df20 = calc_trip(df20)"
   ]
  },
  {
   "cell_type": "code",
   "execution_count": 34,
   "id": "888b5a11-862c-410d-a4ac-e2f376f2553c",
   "metadata": {},
   "outputs": [
    {
     "data": {
      "text/html": [
       "<div><div id=b5d724c3-bf67-44d5-afd6-fa4dd59b36e6 style=\"display:none; background-color:#9D6CFF; color:white; width:200px; height:30px; padding-left:5px; border-radius:4px; flex-direction:row; justify-content:space-around; align-items:center;\" onmouseover=\"this.style.backgroundColor='#BA9BF8'\" onmouseout=\"this.style.backgroundColor='#9D6CFF'\" onclick=\"window.commands?.execute('create-mitosheet-from-dataframe-output');\">See Full Dataframe in Mito</div> <script> if (window.commands.hasCommand('create-mitosheet-from-dataframe-output')) document.getElementById('b5d724c3-bf67-44d5-afd6-fa4dd59b36e6').style.display = 'flex' </script> <table border=\"1\" class=\"dataframe\">\n",
       "  <thead>\n",
       "    <tr style=\"text-align: right;\">\n",
       "      <th></th>\n",
       "      <th>VendorID</th>\n",
       "      <th>pickup</th>\n",
       "      <th>dropoff</th>\n",
       "      <th>store_and_fwd_flag</th>\n",
       "      <th>RatecodeID</th>\n",
       "      <th>PULocationID</th>\n",
       "      <th>DOLocationID</th>\n",
       "      <th>passenger_count</th>\n",
       "      <th>trip_distance</th>\n",
       "      <th>fare_amount</th>\n",
       "      <th>...</th>\n",
       "      <th>tip_amount</th>\n",
       "      <th>tolls_amount</th>\n",
       "      <th>improvement_surcharge</th>\n",
       "      <th>total_amount</th>\n",
       "      <th>payment_type</th>\n",
       "      <th>trip_type</th>\n",
       "      <th>congestion_surcharge</th>\n",
       "      <th>Ride_time</th>\n",
       "      <th>tripdist</th>\n",
       "      <th>newtrip</th>\n",
       "    </tr>\n",
       "  </thead>\n",
       "  <tbody>\n",
       "    <tr>\n",
       "      <th>0</th>\n",
       "      <td>2.0</td>\n",
       "      <td>2020-01-01 06:47:28</td>\n",
       "      <td>2020-01-01 06:52:54</td>\n",
       "      <td>N</td>\n",
       "      <td>1.0</td>\n",
       "      <td>74</td>\n",
       "      <td>75</td>\n",
       "      <td>1.0</td>\n",
       "      <td>1.47</td>\n",
       "      <td>6.5</td>\n",
       "      <td>...</td>\n",
       "      <td>0.0</td>\n",
       "      <td>0.0</td>\n",
       "      <td>0.3</td>\n",
       "      <td>7.3</td>\n",
       "      <td>2.0</td>\n",
       "      <td>1.0</td>\n",
       "      <td>0.0</td>\n",
       "      <td>326</td>\n",
       "      <td>6.175</td>\n",
       "      <td>1.6</td>\n",
       "    </tr>\n",
       "    <tr>\n",
       "      <th>1</th>\n",
       "      <td>2.0</td>\n",
       "      <td>2020-01-01 13:25:34</td>\n",
       "      <td>2020-01-01 13:30:43</td>\n",
       "      <td>N</td>\n",
       "      <td>1.0</td>\n",
       "      <td>74</td>\n",
       "      <td>75</td>\n",
       "      <td>1.0</td>\n",
       "      <td>1.49</td>\n",
       "      <td>6.5</td>\n",
       "      <td>...</td>\n",
       "      <td>0.0</td>\n",
       "      <td>0.0</td>\n",
       "      <td>0.3</td>\n",
       "      <td>7.3</td>\n",
       "      <td>2.0</td>\n",
       "      <td>1.0</td>\n",
       "      <td>0.0</td>\n",
       "      <td>309</td>\n",
       "      <td>6.225</td>\n",
       "      <td>1.6</td>\n",
       "    </tr>\n",
       "    <tr>\n",
       "      <th>2</th>\n",
       "      <td>2.0</td>\n",
       "      <td>2020-01-01 14:20:35</td>\n",
       "      <td>2020-01-01 14:26:25</td>\n",
       "      <td>N</td>\n",
       "      <td>1.0</td>\n",
       "      <td>74</td>\n",
       "      <td>75</td>\n",
       "      <td>1.0</td>\n",
       "      <td>1.31</td>\n",
       "      <td>6.5</td>\n",
       "      <td>...</td>\n",
       "      <td>0.0</td>\n",
       "      <td>0.0</td>\n",
       "      <td>0.3</td>\n",
       "      <td>7.3</td>\n",
       "      <td>2.0</td>\n",
       "      <td>1.0</td>\n",
       "      <td>0.0</td>\n",
       "      <td>350</td>\n",
       "      <td>5.775</td>\n",
       "      <td>1.6</td>\n",
       "    </tr>\n",
       "    <tr>\n",
       "      <th>3</th>\n",
       "      <td>2.0</td>\n",
       "      <td>2020-01-02 06:56:47</td>\n",
       "      <td>2020-01-02 07:03:03</td>\n",
       "      <td>N</td>\n",
       "      <td>1.0</td>\n",
       "      <td>74</td>\n",
       "      <td>75</td>\n",
       "      <td>1.0</td>\n",
       "      <td>1.43</td>\n",
       "      <td>6.5</td>\n",
       "      <td>...</td>\n",
       "      <td>0.0</td>\n",
       "      <td>0.0</td>\n",
       "      <td>0.3</td>\n",
       "      <td>7.3</td>\n",
       "      <td>2.0</td>\n",
       "      <td>1.0</td>\n",
       "      <td>0.0</td>\n",
       "      <td>376</td>\n",
       "      <td>6.075</td>\n",
       "      <td>1.6</td>\n",
       "    </tr>\n",
       "    <tr>\n",
       "      <th>4</th>\n",
       "      <td>2.0</td>\n",
       "      <td>2020-01-02 09:34:46</td>\n",
       "      <td>2020-01-02 09:41:02</td>\n",
       "      <td>N</td>\n",
       "      <td>1.0</td>\n",
       "      <td>74</td>\n",
       "      <td>75</td>\n",
       "      <td>1.0</td>\n",
       "      <td>1.10</td>\n",
       "      <td>6.5</td>\n",
       "      <td>...</td>\n",
       "      <td>0.0</td>\n",
       "      <td>0.0</td>\n",
       "      <td>0.3</td>\n",
       "      <td>7.3</td>\n",
       "      <td>2.0</td>\n",
       "      <td>1.0</td>\n",
       "      <td>0.0</td>\n",
       "      <td>376</td>\n",
       "      <td>5.250</td>\n",
       "      <td>1.6</td>\n",
       "    </tr>\n",
       "  </tbody>\n",
       "</table></div>"
      ],
      "text/plain": [
       "   VendorID              pickup             dropoff store_and_fwd_flag  \\\n",
       "0       2.0 2020-01-01 06:47:28 2020-01-01 06:52:54                  N   \n",
       "1       2.0 2020-01-01 13:25:34 2020-01-01 13:30:43                  N   \n",
       "2       2.0 2020-01-01 14:20:35 2020-01-01 14:26:25                  N   \n",
       "3       2.0 2020-01-02 06:56:47 2020-01-02 07:03:03                  N   \n",
       "4       2.0 2020-01-02 09:34:46 2020-01-02 09:41:02                  N   \n",
       "\n",
       "   RatecodeID  PULocationID  DOLocationID  passenger_count  trip_distance  \\\n",
       "0         1.0            74            75              1.0           1.47   \n",
       "1         1.0            74            75              1.0           1.49   \n",
       "2         1.0            74            75              1.0           1.31   \n",
       "3         1.0            74            75              1.0           1.43   \n",
       "4         1.0            74            75              1.0           1.10   \n",
       "\n",
       "   fare_amount  ...  tip_amount  tolls_amount  improvement_surcharge  \\\n",
       "0          6.5  ...         0.0           0.0                    0.3   \n",
       "1          6.5  ...         0.0           0.0                    0.3   \n",
       "2          6.5  ...         0.0           0.0                    0.3   \n",
       "3          6.5  ...         0.0           0.0                    0.3   \n",
       "4          6.5  ...         0.0           0.0                    0.3   \n",
       "\n",
       "   total_amount  payment_type  trip_type  congestion_surcharge  Ride_time  \\\n",
       "0           7.3           2.0        1.0                   0.0        326   \n",
       "1           7.3           2.0        1.0                   0.0        309   \n",
       "2           7.3           2.0        1.0                   0.0        350   \n",
       "3           7.3           2.0        1.0                   0.0        376   \n",
       "4           7.3           2.0        1.0                   0.0        376   \n",
       "\n",
       "   tripdist  newtrip  \n",
       "0     6.175      1.6  \n",
       "1     6.225      1.6  \n",
       "2     5.775      1.6  \n",
       "3     6.075      1.6  \n",
       "4     5.250      1.6  \n",
       "\n",
       "[5 rows x 22 columns]"
      ]
     },
     "execution_count": 34,
     "metadata": {},
     "output_type": "execute_result"
    }
   ],
   "source": [
    "#df17.head()\n",
    "#df18.head()\n",
    "#df19.head()\n",
    "df20.head()"
   ]
  },
  {
   "cell_type": "code",
   "execution_count": 35,
   "id": "b7a93c7b-3db8-48a2-986f-4d2c77849fba",
   "metadata": {},
   "outputs": [],
   "source": [
    "def cleanup(df):\n",
    "    df.drop(['newtrip'], axis=1, inplace=True)\n",
    "    df.drop(['tripdist'], axis=1, inplace=True)\n",
    "    df.trip_distance = df.trip_distance.abs()\n",
    "    return df\n",
    "#df17 = cleanup(df17)\n",
    "#df18 = cleanup(df18)\n",
    "#df19 = cleanup(df19)\n",
    "df20 = cleanup(df20)"
   ]
  },
  {
   "cell_type": "code",
   "execution_count": 36,
   "id": "308dd727-9a90-4351-a6e2-2e15f0646cd5",
   "metadata": {},
   "outputs": [],
   "source": [
    "#df17.trip_distance = df17.trip_distance.abs()\n",
    "#df18.trip_distance = df18.trip_distance.abs()\n",
    "#df19.trip_distance = df19.trip_distance.abs()\n",
    "df20.trip_distance = df20.trip_distance.abs()"
   ]
  },
  {
   "cell_type": "code",
   "execution_count": 37,
   "id": "89a5cd25-6649-4fca-b0f7-5690d68cb510",
   "metadata": {},
   "outputs": [],
   "source": [
    "#df17.to_csv('Taxi 2017', sep = ',')\n",
    "#df18.to_csv('Taxi 2018', sep = ',')\n",
    "#df19.to_csv('Taxi 2019', sep = ',')\n",
    "df20.to_csv('Taxi 2020', sep = ',')\n",
    "    "
   ]
  },
  {
   "cell_type": "code",
   "execution_count": null,
   "id": "adf0f337-badf-4a55-a246-2e984930f2c7",
   "metadata": {},
   "outputs": [],
   "source": []
  }
 ],
 "metadata": {
  "kernelspec": {
   "display_name": "Python 3",
   "language": "python",
   "name": "python3"
  },
  "language_info": {
   "codemirror_mode": {
    "name": "ipython",
    "version": 3
   },
   "file_extension": ".py",
   "mimetype": "text/x-python",
   "name": "python",
   "nbconvert_exporter": "python",
   "pygments_lexer": "ipython3",
   "version": "3.8.8"
  }
 },
 "nbformat": 4,
 "nbformat_minor": 5
}
